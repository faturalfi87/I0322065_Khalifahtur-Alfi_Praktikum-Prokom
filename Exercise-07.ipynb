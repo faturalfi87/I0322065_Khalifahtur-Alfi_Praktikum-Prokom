{
 "cells": [
  {
   "cell_type": "code",
   "execution_count": 1,
   "metadata": {},
   "outputs": [
    {
     "data": {
      "text/plain": [
       "[[2, 4], [6, 3], [6, 2]]"
      ]
     },
     "execution_count": 1,
     "metadata": {},
     "output_type": "execute_result"
    }
   ],
   "source": [
    "#Buatlah sebuah fungsi untuk membuat matrix berdasarkan input dari user\n",
    "import random\n",
    "def create_matrix(baris,kolom):\n",
    "    matrix = []\n",
    "\n",
    "    #Tulis kode kamu disini\n",
    "    for i in range (baris):\n",
    "        matrix.append([])\n",
    "\n",
    "        for j in range (kolom):\n",
    "            elemen = int(input(f\"Masukkan elemen matriks[{i}][{j}]: \"))\n",
    "            matrix[i].append(elemen)\n",
    "\n",
    "    return matrix\n",
    "\n",
    "\n",
    "baris = int(input('Masukkan Jumlah Baris:\\t'))\n",
    "kolom = int(input('Masukkan Jumlah Kolom:\\t'))\n",
    "\n",
    "create_matrix(baris,kolom)"
   ]
  },
  {
   "cell_type": "code",
   "execution_count": 1,
   "metadata": {},
   "outputs": [
    {
     "data": {
      "text/plain": [
       "[[-2, 8], [1, -2]]"
      ]
     },
     "execution_count": 1,
     "metadata": {},
     "output_type": "execute_result"
    }
   ],
   "source": [
    "#Buatlah fungsi untuk melakukan pengurangan antar dua matrix berdasarkan input user\n",
    "\n",
    "def kurang_matrix(matrixA, matrixB):\n",
    "    kurang = [[0,0],\n",
    "              [0,0]]\n",
    "\n",
    "    #Tulis kode kamu disini\n",
    "    for i in range (len(matrixA)):\n",
    "        for j in range (len(matrixB[i])):\n",
    "            kurang [i][j] = matrixA [i][j] - matrixB [i][j]\n",
    "\n",
    "    return kurang\n",
    "\n",
    "\n",
    "matrixA = [[0,8],\n",
    "           [1,0]]\n",
    "matrixB = [[2,0],\n",
    "           [0,2]]\n",
    "\n",
    "\n",
    "kurang_matrix(matrixA,matrixB)\n"
   ]
  },
  {
   "cell_type": "code",
   "execution_count": 16,
   "metadata": {},
   "outputs": [
    {
     "data": {
      "text/plain": [
       "[[5.0, 10.0], [7.0, 9.0]]"
      ]
     },
     "execution_count": 16,
     "metadata": {},
     "output_type": "execute_result"
    }
   ],
   "source": [
    "#Buatlah Fungsi untuk melakukan pembagian matrix dengan skalar berdasarkan input user\n",
    "\n",
    "def bagi_matrix(matrix1, skalar):\n",
    "    hasil = [[0,0],\n",
    "             [0,0]]\n",
    "\n",
    "    #Tulis kode kamu disini\n",
    "    for i in range (len(matrix1)):\n",
    "        for j in range (len(matrix1[i])):\n",
    "            hasil [i][j] = matrix1 [i][j]/skalar\n",
    "\n",
    "    return hasil\n",
    "\n",
    "\n",
    "\n",
    "matrix1 = [[15,30],\n",
    "           [21,27]]\n",
    "skalar = int(input('Matrix dibagi berapa?\\t'))\n",
    "\n",
    "\n",
    "bagi_matrix(matrix1, skalar)"
   ]
  }
 ],
 "metadata": {
  "kernelspec": {
   "display_name": "Python 3",
   "language": "python",
   "name": "python3"
  },
  "language_info": {
   "codemirror_mode": {
    "name": "ipython",
    "version": 3
   },
   "file_extension": ".py",
   "mimetype": "text/x-python",
   "name": "python",
   "nbconvert_exporter": "python",
   "pygments_lexer": "ipython3",
   "version": "3.11.1"
  },
  "orig_nbformat": 4
 },
 "nbformat": 4,
 "nbformat_minor": 2
}
