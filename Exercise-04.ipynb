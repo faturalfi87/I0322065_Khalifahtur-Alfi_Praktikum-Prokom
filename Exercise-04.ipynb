{
 "cells": [
  {
   "cell_type": "code",
   "execution_count": 1,
   "metadata": {},
   "outputs": [
    {
     "name": "stdout",
     "output_type": "stream",
     "text": [
      "Khalifahtur Alfi\n",
      "I0322065\n",
      "B\n"
     ]
    }
   ],
   "source": [
    "print(input(\"Nama: \"))\n",
    "print(input(\"NIM: \"))\n",
    "print(input(\"Kelas: \"))"
   ]
  },
  {
   "attachments": {},
   "cell_type": "markdown",
   "metadata": {},
   "source": [
    "## 1."
   ]
  },
  {
   "attachments": {},
   "cell_type": "markdown",
   "metadata": {},
   "source": [
    "Buatlah program yang meminta input string dari user, kemudian program akan menentukan string tersebut adalah palyndrome atau bukan.<br>\n",
    "* Palyndrome adalah kata atau kalimat yang jika dibalik hasilnya sama\n",
    "* kasur rusak adalah palyndrome\n",
    "\n",
    "> *note: Kerjakan soal ini dengan percabangan*"
   ]
  },
  {
   "cell_type": "code",
   "execution_count": 9,
   "metadata": {},
   "outputs": [
    {
     "name": "stdout",
     "output_type": "stream",
     "text": [
      "level adalah Palyndrome\n"
     ]
    }
   ],
   "source": [
    "# Kerjakan soal no 1 di sini\n",
    "Kalimat = str(input(\"Masukkan kalimat\"))\n",
    "Palyndrome = Kalimat[::-1]\n",
    "if Kalimat == Palyndrome:\n",
    "    print(Kalimat, \"adalah Palyndrome\")\n",
    "else:\n",
    "    print(Kalimat, \"bukan Palyndrome\")"
   ]
  },
  {
   "attachments": {},
   "cell_type": "markdown",
   "metadata": {},
   "source": [
    "## 2."
   ]
  },
  {
   "attachments": {},
   "cell_type": "markdown",
   "metadata": {},
   "source": [
    "Buatlah program yang meminta input berupa tahun dan bulan kemudian tampilkan jumlah hari pada bulan tersebut (perbedaan pada tahun kabisat).<br>\n",
    "\n",
    "> *note: Kerjakan soal ini dengan percabangan*"
   ]
  },
  {
   "cell_type": "code",
   "execution_count": 8,
   "metadata": {},
   "outputs": [
    {
     "name": "stdout",
     "output_type": "stream",
     "text": [
      "Jumlah hari pada bulan 10 tahun 2023 adalah 31 hari.\n"
     ]
    }
   ],
   "source": [
    "# Kerjakan soal no 2 di sini\n",
    "Tahun = int(input(\"Masukkan tahun: \"))\n",
    "Bulan = int(input(\"Masukkan bulan:\"))\n",
    "if Bulan == 2:\n",
    "    if Tahun % 4 == 0:\n",
    "        Jumlah_hari = 29\n",
    "    else:\n",
    "        Jumlah_hari = 28\n",
    "elif Bulan in [4,6,9,11]:\n",
    "    Jumlah_hari = 30\n",
    "else:\n",
    "    Jumlah_hari = 31\n",
    "print(f\"Jumlah hari pada bulan {Bulan} tahun {Tahun} adalah {Jumlah_hari} hari.\")"
   ]
  }
 ],
 "metadata": {
  "kernelspec": {
   "display_name": "Python 3",
   "language": "python",
   "name": "python3"
  },
  "language_info": {
   "codemirror_mode": {
    "name": "ipython",
    "version": 3
   },
   "file_extension": ".py",
   "mimetype": "text/x-python",
   "name": "python",
   "nbconvert_exporter": "python",
   "pygments_lexer": "ipython3",
   "version": "3.11.1"
  },
  "orig_nbformat": 4
 },
 "nbformat": 4,
 "nbformat_minor": 2
}
