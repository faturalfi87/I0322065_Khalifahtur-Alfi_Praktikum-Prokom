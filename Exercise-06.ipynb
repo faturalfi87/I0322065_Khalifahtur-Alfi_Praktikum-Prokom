{
 "cells": [
  {
   "attachments": {},
   "cell_type": "markdown",
   "metadata": {},
   "source": [
    "1. Tulis program dengan fungsi untuk menentukan yang paling besar dari empat angka yang diberikan!\n",
    "     ###### Note: Angka ditentukan sendiri oleh praktikan"
   ]
  },
  {
   "cell_type": "code",
   "execution_count": 2,
   "metadata": {},
   "outputs": [
    {
     "name": "stdout",
     "output_type": "stream",
     "text": [
      "List angka = [8, 10, 20, 2]\n",
      "Nilai terbesar dari list angka tersebut adalah 20\n"
     ]
    }
   ],
   "source": [
    "# Kerjakan Nomor 1 di bawah ini\n",
    "number = [8,10,20,2]\n",
    "print(f\"List angka = {number}\")\n",
    "print(f\"Nilai terbesar dari list angka tersebut adalah {max(number)}\")"
   ]
  },
  {
   "attachments": {},
   "cell_type": "markdown",
   "metadata": {},
   "source": [
    "2. Tulis fungsi Python yang mengambil list awal dan menampilkan list baru dengan angka unik (tidak ada angka yang sama) dari list yang pertama."
   ]
  },
  {
   "cell_type": "code",
   "execution_count": null,
   "metadata": {},
   "outputs": [],
   "source": [
    "list_awal = [9,9,9,9,9,9,9,10,11,13,14,15,17,19]"
   ]
  },
  {
   "cell_type": "code",
   "execution_count": 3,
   "metadata": {},
   "outputs": [
    {
     "name": "stdout",
     "output_type": "stream",
     "text": [
      "List awal adalah [9, 9, 9, 9, 9, 9, 9, 10, 11, 13, 14, 15, 17, 19]\n",
      "List angka unik adalah [9, 10, 11, 13, 14, 15, 17, 19]\n"
     ]
    }
   ],
   "source": [
    "# Kerjakan Nomor 2 di bawah ini\n",
    "def unique_number (list_awal):\n",
    "    list_baru = list(set(list_awal))\n",
    "    return list_baru\n",
    "\n",
    "list_awal = [9,9,9,9,9,9,9,10,11,13,14,15,17,19]\n",
    "\n",
    "list_akhir = unique_number(list_awal)\n",
    "print(f\"List awal adalah {list_awal}\")\n",
    "print(f\"List angka unik adalah {list_akhir}\")"
   ]
  },
  {
   "attachments": {},
   "cell_type": "markdown",
   "metadata": {},
   "source": [
    "3. Hitunglah 2 angka yang dapat diinputkan dengan angka kedua menjadi pangkat bagi angka pertama, dan angka kedua menjadi pembagi angka pertama (tampilkan juga sisa hasil pembagiannya) \n",
    "\n",
    "clue : gunakan fungsi yang ada di built-in tanpa menggunakan sintaks operator seperti * ataupun /."
   ]
  },
  {
   "cell_type": "code",
   "execution_count": 5,
   "metadata": {},
   "outputs": [
    {
     "name": "stdout",
     "output_type": "stream",
     "text": [
      "7 pangkat 2 adalah 49\n",
      "7 dibagi 2 adalah 3 dengan sisa 1\n"
     ]
    }
   ],
   "source": [
    "# Kerjakan Nomor 3 di bawah ini\n",
    "def angka (angka1, angka2):\n",
    "    pangkat = pow(angka1, angka2)\n",
    "    bagi = divmod(angka1, angka2)\n",
    "\n",
    "    print(f\"{angka1} pangkat {angka2} adalah {pangkat}\")\n",
    "    print(f\"{angka1} dibagi {angka2} adalah {bagi[0]} dengan sisa {bagi[1]}\")\n",
    "\n",
    "angka (7,2)\n"
   ]
  }
 ],
 "metadata": {
  "kernelspec": {
   "display_name": "Python 3",
   "language": "python",
   "name": "python3"
  },
  "language_info": {
   "codemirror_mode": {
    "name": "ipython",
    "version": 3
   },
   "file_extension": ".py",
   "mimetype": "text/x-python",
   "name": "python",
   "nbconvert_exporter": "python",
   "pygments_lexer": "ipython3",
   "version": "3.11.1"
  },
  "orig_nbformat": 4,
  "vscode": {
   "interpreter": {
    "hash": "5addf786bcd861d1ce5006f23111f8cbb206731e5b61b0a5632ba9e0252558a8"
   }
  }
 },
 "nbformat": 4,
 "nbformat_minor": 2
}
